{
 "cells": [
  {
   "cell_type": "code",
   "execution_count": null,
   "id": "2b445c2b-ea76-41a8-a125-3871c6163b3e",
   "metadata": {},
   "outputs": [],
   "source": [
    "import torch\n",
    "import torch.nn as nn\n",
    "import numpy as np\n",
    "import matplotlib.pyplot as plt\n",
    "import random\n",
    "\n",
    "# Needed to use matplotlib in a Jupyter environment\n",
    "%matplotlib inline\n",
    "\n",
    "# seeded random state for reproducibility\n",
    "np.random.seed(1)"
   ]
  },
  {
   "cell_type": "markdown",
   "id": "9238e939-5b57-4a2b-92ac-f56d3aaa2316",
   "metadata": {},
   "source": [
    "# Generate some dummy data"
   ]
  },
  {
   "cell_type": "code",
   "execution_count": null,
   "id": "c417cbc4-866c-4f4e-ae87-b708f5eadd0b",
   "metadata": {},
   "outputs": [],
   "source": [
    "num_samples = 1000\n",
    "# Data of class A\n",
    "A = np.random.normal(0, 0.75, size=(num_samples, 2))\n",
    "# Data of class B\n",
    "B = np.random.normal(3, 0.75, size=(num_samples, 2))\n",
    "# A is labelled as 0 and B is labelled as 1\n",
    "y = [0 if i < num_samples else 1 for i in range(num_samples*2)]\n",
    "input_data = np.concatenate([A, B], axis=0)"
   ]
  },
  {
   "cell_type": "code",
   "execution_count": null,
   "id": "db8e5afc-8955-4d10-939d-8b72c40beb68",
   "metadata": {},
   "outputs": [],
   "source": [
    "plt.figure(figsize = (10,7))\n",
    "plt.scatter(input_data[:,0], input_data[:,1], c=y)\n",
    "plt.grid()\n",
    "plt.show()"
   ]
  },
  {
   "cell_type": "markdown",
   "id": "9331dcd5-b922-4b92-a40d-3839e1a2cc04",
   "metadata": {},
   "source": [
    "# Define a neural network with PyTorch"
   ]
  },
  {
   "cell_type": "code",
   "execution_count": null,
   "id": "7b4bfdb3-c3de-4510-b04e-96c169e90448",
   "metadata": {},
   "outputs": [],
   "source": [
    "class NeuralNetwork(nn.Module):\n",
    "    def __init__(self, input_dim=2, hidden_dim=8):\n",
    "        super().__init__()\n",
    "        \n",
    "        self.layers = nn.Sequential(\n",
    "            nn.Linear(input_dim, hidden_dim),\n",
    "            nn.ReLU(),\n",
    "            nn.Linear(hidden_dim, 1),\n",
    "            nn.Sigmoid()\n",
    "        )\n",
    "        \n",
    "    def forward(self, x):\n",
    "        prediction = self.layers(x)\n",
    "        return prediction\n"
   ]
  },
  {
   "cell_type": "markdown",
   "id": "00fbd351-2930-413c-9dc6-9efc1f23cca6",
   "metadata": {},
   "source": [
    "# Train Loop"
   ]
  },
  {
   "cell_type": "code",
   "execution_count": null,
   "id": "37236754-b3af-42ea-b73b-e39f0fd148a9",
   "metadata": {},
   "outputs": [],
   "source": [
    "data = list(zip(input_data, y))\n",
    "random.shuffle(data)\n",
    "model = NeuralNetwork()\n",
    "model.train()\n",
    "optimizer = torch.optim.SGD(model.parameters(), lr=0.01)\n",
    "bce = nn.BCELoss()\n",
    "\n",
    "loss_list = []\n",
    "for x, target in data:\n",
    "\n",
    "    x, target = torch.tensor(x).unsqueeze(0).float(), torch.tensor([target]).float()\n",
    "    optimizer.zero_grad()\n",
    "    pred = model(x).squeeze(1)\n",
    "    loss = bce(pred, target)\n",
    "    loss.backward()\n",
    "    optimizer.step()\n",
    "\n",
    "    loss_list.append(loss.detach().item())\n",
    "\n",
    "def smooth_loss_curve(loss_curve, window_size=10):\n",
    "    return np.convolve(loss_curve, np.ones(window_size)/window_size)[window_size-1:]\n",
    "\n",
    "loss_curve = smooth_loss_curve(loss_list)\n",
    "\n",
    "plt.plot(loss_curve)\n",
    "plt.show()"
   ]
  }
 ],
 "metadata": {
  "kernelspec": {
   "display_name": "Python 3 (ipykernel)",
   "language": "python",
   "name": "python3"
  },
  "language_info": {
   "codemirror_mode": {
    "name": "ipython",
    "version": 3
   },
   "file_extension": ".py",
   "mimetype": "text/x-python",
   "name": "python",
   "nbconvert_exporter": "python",
   "pygments_lexer": "ipython3",
   "version": "3.9.7"
  }
 },
 "nbformat": 4,
 "nbformat_minor": 5
}
